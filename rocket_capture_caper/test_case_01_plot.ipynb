{
 "cells": [
  {
   "cell_type": "code",
   "execution_count": 5,
   "metadata": {},
   "outputs": [
    {
     "name": "stderr",
     "output_type": "stream",
     "text": [
      "/usr/lib/python3.6/site-packages/matplotlib/cbook/deprecation.py:106: MatplotlibDeprecationWarning: Adding an axes using the same arguments as a previous axes currently reuses the earlier instance.  In a future version, a new instance will always be created and returned.  Meanwhile, this warning can be suppressed, and the future behavior ensured, by passing a unique label to each axes instance.\n",
      "  warnings.warn(message, mplDeprecation, stacklevel=1)\n"
     ]
    },
    {
     "data": {
      "image/png": "[encoded data removed]",
      "text/plain": [
       "<matplotlib.figure.Figure at 0x7fdd8fa30160>"
      ]
     },
     "metadata": {},
     "output_type": "display_data"
    }
   ],
   "source": [
    "import numpy as np\n",
    "import matplotlib.pyplot as plt\n",
    "from matplotlib.patches import Polygon\n",
    "\n",
    "points = [\n",
    "(1, 1),\n",
    "(10, 10),\n",
    "(1, 10),\n",
    "(10, 1),\n",
    "(5, 5),\n",
    "(2, 3),\n",
    "(7, 8),\n",
    "(9, 1),\n",
    "(3, 8),\n",
    "(7, 7),\n",
    "]\n",
    "\n",
    "x = list(map(lambda x: x[0], points))\n",
    "y = list(map(lambda x: x[1], points))\n",
    "\n",
    "plt.rc('grid', linestyle=\"--\", color='black')\n",
    "\n",
    "plt.xticks(np.arange(-1, 11, 1.0))\n",
    "plt.yticks(np.arange(-1, 11, 1.0))\n",
    "\n",
    "plt.scatter(x, y)\n",
    "plt.grid(True)\n",
    "\n",
    "poly = plt.Polygon([[1,1], [10,1], [10,10], [1,10]], alpha=0.2)\n",
    "\n",
    "plt.subplot().add_patch(poly)\n",
    "\n",
    "plt.show()"
   ]
  },
  {
   "cell_type": "code",
   "execution_count": 21,
   "metadata": {},
   "outputs": [],
   "source": []
  },
  {
   "cell_type": "code",
   "execution_count": null,
   "metadata": {},
   "outputs": [],
   "source": []
  }
 ],
 "metadata": {
  "kernelspec": {
   "display_name": "Python 3",
   "language": "python",
   "name": "python3"
  },
  "language_info": {
   "codemirror_mode": {
    "name": "ipython",
    "version": 3
   },
   "file_extension": ".py",
   "mimetype": "text/x-python",
   "name": "python",
   "nbconvert_exporter": "python",
   "pygments_lexer": "ipython3",
   "version": "3.6.4"
  }
 },
 "nbformat": 4,
 "nbformat_minor": 2
}
